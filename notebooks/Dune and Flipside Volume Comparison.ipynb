{
 "cells": [
  {
   "cell_type": "markdown",
   "id": "e97c202b",
   "metadata": {},
   "source": [
    "# Dune and Flipside Volume Comparison\n",
    "- Author: Steffan Rees\n",
    "- 29/08/2022\n",
    "\n",
    "Assess the volume returned by writing the same queries on the different platforms. As Dune Analytics doesn't currently have an API, I will provide links to the queries/dashboards."
   ]
  },
  {
   "cell_type": "code",
   "execution_count": 1,
   "id": "fbe84910",
   "metadata": {},
   "outputs": [],
   "source": [
    "from datetime import datetime\n",
    "import math\n",
    "import pandas as pd\n",
    "from shroomdk import ShroomDK\n",
    "import sqlparse\n",
    "import toml"
   ]
  },
  {
   "cell_type": "code",
   "execution_count": 2,
   "id": "a849d6a9",
   "metadata": {},
   "outputs": [],
   "source": [
    "# Read config file and import configurations\n",
    "config = toml.load('../config.toml')\n",
    "SHROOMDK_API = config.get('shroomdk').get('shroomdk_api')"
   ]
  },
  {
   "cell_type": "code",
   "execution_count": 3,
   "id": "f7d006e7",
   "metadata": {},
   "outputs": [],
   "source": [
    "# Initialise ShroomDK\n",
    "sdk = ShroomDK(SHROOMDK_API)"
   ]
  },
  {
   "cell_type": "markdown",
   "id": "eeeea5b3",
   "metadata": {},
   "source": [
    "## Flipside Uniswap V2 swap volume by year"
   ]
  },
  {
   "cell_type": "code",
   "execution_count": 4,
   "id": "27bffca9",
   "metadata": {},
   "outputs": [],
   "source": [
    "query = \"\"\"\n",
    "SELECT\n",
    "  eds.platform,\n",
    "  date_part(year, block_timestamp) AS year,\n",
    "  COUNT(*) AS swaps\n",
    "FROM\n",
    "  ethereum.core.ez_dex_swaps AS eds\n",
    "WHERE platform = 'uniswap-v2'\n",
    "GROUP BY\n",
    "  eds.platform,\n",
    "  YEAR(eds.block_timestamp)\n",
    "ORDER BY\n",
    "  eds.platform ASC,\n",
    "  year ASC\n",
    "\"\"\""
   ]
  },
  {
   "cell_type": "code",
   "execution_count": 5,
   "id": "8ab4bb6e",
   "metadata": {},
   "outputs": [
    {
     "data": {
      "text/plain": [
       "QueryResultSet(query_id=None, status='finished', columns=['PLATFORM', 'YEAR', 'SWAPS'], column_types=['string', 'number', 'number'], rows=[['uniswap-v2', 2020, 22844431], ['uniswap-v2', 2021, 46562585], ['uniswap-v2', 2022, 14923399]], run_stats=QueryRunStats(started_at=datetime.datetime(2022, 8, 29, 22, 1, 38), ended_at=datetime.datetime(2022, 8, 29, 22, 1, 40), elapsed_seconds=2, record_count=3), records=[{'platform': 'uniswap-v2', 'year': 2020, 'swaps': 22844431}, {'platform': 'uniswap-v2', 'year': 2021, 'swaps': 46562585}, {'platform': 'uniswap-v2', 'year': 2022, 'swaps': 14923399}], error=None)"
      ]
     },
     "execution_count": 5,
     "metadata": {},
     "output_type": "execute_result"
    }
   ],
   "source": [
    "qrs = sdk.query(query)\n",
    "qrs"
   ]
  },
  {
   "cell_type": "code",
   "execution_count": 6,
   "id": "b20efc73",
   "metadata": {},
   "outputs": [
    {
     "data": {
      "text/html": [
       "<div>\n",
       "<style scoped>\n",
       "    .dataframe tbody tr th:only-of-type {\n",
       "        vertical-align: middle;\n",
       "    }\n",
       "\n",
       "    .dataframe tbody tr th {\n",
       "        vertical-align: top;\n",
       "    }\n",
       "\n",
       "    .dataframe thead th {\n",
       "        text-align: right;\n",
       "    }\n",
       "</style>\n",
       "<table border=\"1\" class=\"dataframe\">\n",
       "  <thead>\n",
       "    <tr style=\"text-align: right;\">\n",
       "      <th></th>\n",
       "      <th>platform</th>\n",
       "      <th>year</th>\n",
       "      <th>swaps</th>\n",
       "    </tr>\n",
       "  </thead>\n",
       "  <tbody>\n",
       "    <tr>\n",
       "      <th>0</th>\n",
       "      <td>uniswap-v2</td>\n",
       "      <td>2020</td>\n",
       "      <td>22844431</td>\n",
       "    </tr>\n",
       "    <tr>\n",
       "      <th>1</th>\n",
       "      <td>uniswap-v2</td>\n",
       "      <td>2021</td>\n",
       "      <td>46562585</td>\n",
       "    </tr>\n",
       "    <tr>\n",
       "      <th>2</th>\n",
       "      <td>uniswap-v2</td>\n",
       "      <td>2022</td>\n",
       "      <td>14923399</td>\n",
       "    </tr>\n",
       "  </tbody>\n",
       "</table>\n",
       "</div>"
      ],
      "text/plain": [
       "     platform  year     swaps\n",
       "0  uniswap-v2  2020  22844431\n",
       "1  uniswap-v2  2021  46562585\n",
       "2  uniswap-v2  2022  14923399"
      ]
     },
     "execution_count": 6,
     "metadata": {},
     "output_type": "execute_result"
    }
   ],
   "source": [
    "flipside_df = pd.DataFrame(qrs.records)\n",
    "flipside_df"
   ]
  },
  {
   "cell_type": "markdown",
   "id": "cb619a84",
   "metadata": {},
   "source": [
    "## Dune Uniswap V2 swaps volume by year\n",
    "Qeuries: \n",
    "- Dune V1 https://dune.com/queries/1212346\n",
    "- Dune V2 https://dune.com/queries/1216628\n",
    "\n",
    "Dashboard: https://dune.com/steffrees/uniswapv2-swaps-summary"
   ]
  },
  {
   "cell_type": "markdown",
   "id": "66e858f7",
   "metadata": {},
   "source": [
    "## Flipside Uniswap V2 swap volume on specific day"
   ]
  },
  {
   "cell_type": "code",
   "execution_count": 7,
   "id": "9f1ecc81",
   "metadata": {},
   "outputs": [],
   "source": [
    "query = \"\"\"\n",
    "SELECT\n",
    "  eds.platform,\n",
    "  COUNT(*) AS swaps\n",
    "FROM\n",
    "  ethereum.core.ez_dex_swaps AS eds\n",
    "WHERE\n",
    "  platform = 'uniswap-v2'\n",
    "  AND date_part(year, block_timestamp) = 2022\n",
    "  AND date_part(month, block_timestamp) = 8\n",
    "  AND date_part(day, block_timestamp) = 1\n",
    "GROUP BY\n",
    "  eds.platform\n",
    "\"\"\""
   ]
  },
  {
   "cell_type": "code",
   "execution_count": 8,
   "id": "f84ca8b6",
   "metadata": {},
   "outputs": [
    {
     "data": {
      "text/plain": [
       "QueryResultSet(query_id=None, status='finished', columns=['PLATFORM', 'SWAPS'], column_types=['string', 'number'], rows=[['uniswap-v2', 72999]], run_stats=QueryRunStats(started_at=datetime.datetime(2022, 8, 29, 21, 58, 54), ended_at=datetime.datetime(2022, 8, 29, 21, 58, 54), elapsed_seconds=0, record_count=1), records=[{'platform': 'uniswap-v2', 'swaps': 72999}], error=None)"
      ]
     },
     "execution_count": 8,
     "metadata": {},
     "output_type": "execute_result"
    }
   ],
   "source": [
    "qrs = sdk.query(query)\n",
    "qrs"
   ]
  },
  {
   "cell_type": "code",
   "execution_count": 9,
   "id": "9881d224",
   "metadata": {},
   "outputs": [
    {
     "data": {
      "text/html": [
       "<div>\n",
       "<style scoped>\n",
       "    .dataframe tbody tr th:only-of-type {\n",
       "        vertical-align: middle;\n",
       "    }\n",
       "\n",
       "    .dataframe tbody tr th {\n",
       "        vertical-align: top;\n",
       "    }\n",
       "\n",
       "    .dataframe thead th {\n",
       "        text-align: right;\n",
       "    }\n",
       "</style>\n",
       "<table border=\"1\" class=\"dataframe\">\n",
       "  <thead>\n",
       "    <tr style=\"text-align: right;\">\n",
       "      <th></th>\n",
       "      <th>platform</th>\n",
       "      <th>swaps</th>\n",
       "    </tr>\n",
       "  </thead>\n",
       "  <tbody>\n",
       "    <tr>\n",
       "      <th>0</th>\n",
       "      <td>uniswap-v2</td>\n",
       "      <td>72999</td>\n",
       "    </tr>\n",
       "  </tbody>\n",
       "</table>\n",
       "</div>"
      ],
      "text/plain": [
       "     platform  swaps\n",
       "0  uniswap-v2  72999"
      ]
     },
     "execution_count": 9,
     "metadata": {},
     "output_type": "execute_result"
    }
   ],
   "source": [
    "flipside_df = pd.DataFrame(qrs.records)\n",
    "flipside_df"
   ]
  },
  {
   "cell_type": "markdown",
   "id": "025d6bf1",
   "metadata": {},
   "source": [
    "## Dune Uniswap V2 swaps volume volume on specific day\n",
    "\n",
    "Link to qeuries: \n",
    "- Dune V1 https://dune.com/queries/1217259\n",
    "- Dune V2 https://dune.com/queries/1217248"
   ]
  },
  {
   "cell_type": "code",
   "execution_count": null,
   "id": "fa9d729e",
   "metadata": {},
   "outputs": [],
   "source": []
  }
 ],
 "metadata": {
  "kernelspec": {
   "display_name": "Python 3 (ipykernel)",
   "language": "python",
   "name": "python3"
  },
  "language_info": {
   "codemirror_mode": {
    "name": "ipython",
    "version": 3
   },
   "file_extension": ".py",
   "mimetype": "text/x-python",
   "name": "python",
   "nbconvert_exporter": "python",
   "pygments_lexer": "ipython3",
   "version": "3.7.11"
  }
 },
 "nbformat": 4,
 "nbformat_minor": 5
}
