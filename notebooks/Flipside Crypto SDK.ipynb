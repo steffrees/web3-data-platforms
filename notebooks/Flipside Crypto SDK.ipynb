{
 "cells": [
  {
   "cell_type": "markdown",
   "id": "2c239735",
   "metadata": {},
   "source": [
    "# Flipside Crypto SDK\n",
    "- Author: Steffan Rees\n",
    "- 29/08/2022\n",
    "\n",
    "Explore using Flipside's SDK in Python."
   ]
  },
  {
   "cell_type": "markdown",
   "id": "eb21b363",
   "metadata": {},
   "source": [
    "## Resources\n",
    "- https://github.com/FlipsideCrypto/sdk\n",
    "- https://docs.flipsidecrypto.com/shroomdk-sdk/getting-started\n",
    "- https://sdk.flipsidecrypto.xyz/shroomdk\n",
    "- https://app.flipsidecrypto.com/velocity\n",
    "- https://teamflipside.notion.site/teamflipside/SQL-Basics-8b3a10aa657f4b84bc80229f4619b0ea\n",
    "- https://www.youtube.com/watch?v=VB0ZlZ_Hr_A\n",
    "- https://github.com/FlipsideCrypto/sdk/tree/main/examples/python"
   ]
  },
  {
   "cell_type": "code",
   "execution_count": 1,
   "id": "d09d551b",
   "metadata": {},
   "outputs": [],
   "source": [
    "from datetime import datetime\n",
    "import math\n",
    "import toml\n",
    "from shroomdk import ShroomDK"
   ]
  },
  {
   "cell_type": "code",
   "execution_count": 2,
   "id": "f1915539",
   "metadata": {},
   "outputs": [],
   "source": [
    "# Read config file and import configurations\n",
    "config = toml.load('../config.toml')\n",
    "SHROOMDK_API = config.get('shroomdk').get('shroomdk_api')"
   ]
  },
  {
   "cell_type": "code",
   "execution_count": 3,
   "id": "196d62b3",
   "metadata": {},
   "outputs": [],
   "source": [
    "# Initialise ShroomDK\n",
    "sdk = ShroomDK(SHROOMDK_API)"
   ]
  },
  {
   "cell_type": "code",
   "execution_count": 4,
   "id": "13b970b3",
   "metadata": {},
   "outputs": [],
   "source": [
    "# Constants\n",
    "# The max number of rows a query can return and cache is 1M.\n",
    "# However, only 100k rows/records can be returned in a single http call. \n",
    "MAX_QUERY_LIMIT = 1000000\n",
    "PAGE_SIZE = 100000"
   ]
  },
  {
   "cell_type": "markdown",
   "id": "2ac3cb99",
   "metadata": {},
   "source": [
    "### Example: get all Solana swaps in the last 15 days\n",
    "https://www.youtube.com/watch?v=bD1ioDw41aw"
   ]
  },
  {
   "cell_type": "code",
   "execution_count": 5,
   "id": "241ff018",
   "metadata": {},
   "outputs": [],
   "source": [
    "# First need to get the total number of swaps and start and end dates\n",
    "query_count = \"\"\"\n",
    "SELECT\n",
    "  COUNT(1) as swap_count,\n",
    "  GETDATE() as end_time,\n",
    "  GETDATE() - interval '15 days' as start_time\n",
    "FROM\n",
    "  solana.fact_swaps\n",
    "WHERE\n",
    "  succeeded = true\n",
    "  AND block_timestamp BETWEEN GETDATE() - interval '15 days'\n",
    "  AND GETDATE()\n",
    "\"\"\""
   ]
  },
  {
   "cell_type": "code",
   "execution_count": 6,
   "id": "91587998",
   "metadata": {},
   "outputs": [
    {
     "data": {
      "text/plain": [
       "QueryResultSet(query_id=None, status='finished', columns=['SWAP_COUNT', 'END_TIME', 'START_TIME'], column_types=['number', 'timestamp', 'timestamp'], rows=[[1006506, '2022-08-30 10:02:17.242 +0000', '2022-08-15 10:02:17.242 +0000']], run_stats=QueryRunStats(started_at=datetime.datetime(2022, 8, 30, 10, 2, 17), ended_at=datetime.datetime(2022, 8, 30, 10, 2, 19), elapsed_seconds=2, record_count=1), records=[{'swap_count': 1006506, 'end_time': '2022-08-30 10:02:17.242 +0000', 'start_time': '2022-08-15 10:02:17.242 +0000'}], error=None)"
      ]
     },
     "execution_count": 6,
     "metadata": {},
     "output_type": "execute_result"
    }
   ],
   "source": [
    "qrs_count = sdk.query(query_count)\n",
    "qrs_count"
   ]
  },
  {
   "cell_type": "code",
   "execution_count": 7,
   "id": "fa62022f",
   "metadata": {},
   "outputs": [
    {
     "data": {
      "text/plain": [
       "1006506"
      ]
     },
     "execution_count": 7,
     "metadata": {},
     "output_type": "execute_result"
    }
   ],
   "source": [
    "# Total number of Solana swaps over the last 15 days\n",
    "count = qrs_count.records[0][\"swap_count\"]\n",
    "count"
   ]
  },
  {
   "cell_type": "code",
   "execution_count": 8,
   "id": "9f6fa737",
   "metadata": {},
   "outputs": [
    {
     "data": {
      "text/plain": [
       "'2022-08-15 10:02:17.242 +0000'"
      ]
     },
     "execution_count": 8,
     "metadata": {},
     "output_type": "execute_result"
    }
   ],
   "source": [
    "start_time = qrs_count.records[0][\"start_time\"]\n",
    "start_time"
   ]
  },
  {
   "cell_type": "code",
   "execution_count": 9,
   "id": "5d959c33",
   "metadata": {},
   "outputs": [
    {
     "data": {
      "text/plain": [
       "'2022-08-30 10:02:17.242 +0000'"
      ]
     },
     "execution_count": 9,
     "metadata": {},
     "output_type": "execute_result"
    }
   ],
   "source": [
    "end_time = qrs_count.records[0][\"end_time\"]\n",
    "end_time"
   ]
  },
  {
   "cell_type": "code",
   "execution_count": 10,
   "id": "4f197241",
   "metadata": {},
   "outputs": [
    {
     "data": {
      "text/plain": [
       "2"
      ]
     },
     "execution_count": 10,
     "metadata": {},
     "output_type": "execute_result"
    }
   ],
   "source": [
    "query_runs = math.ceil(count/MAX_QUERY_LIMIT)\n",
    "query_runs"
   ]
  },
  {
   "cell_type": "code",
   "execution_count": 11,
   "id": "19c3e63d",
   "metadata": {},
   "outputs": [
    {
     "name": "stdout",
     "output_type": "stream",
     "text": [
      "Querying 100000 records from offset 0 @ page 1\n",
      "Records returned thus far: 100000\n",
      "Querying 100000 records from offset 0 @ page 2\n",
      "Records returned thus far: 200000\n",
      "Querying 100000 records from offset 0 @ page 3\n",
      "Records returned thus far: 300000\n",
      "Querying 100000 records from offset 0 @ page 4\n",
      "Records returned thus far: 400000\n",
      "Querying 100000 records from offset 0 @ page 5\n",
      "Records returned thus far: 500000\n",
      "Querying 100000 records from offset 0 @ page 6\n",
      "Records returned thus far: 600000\n",
      "Querying 100000 records from offset 0 @ page 7\n",
      "Records returned thus far: 700000\n",
      "Querying 100000 records from offset 0 @ page 8\n",
      "Records returned thus far: 800000\n",
      "Querying 100000 records from offset 0 @ page 9\n",
      "Records returned thus far: 900000\n",
      "Querying 100000 records from offset 0 @ page 10\n",
      "Records returned thus far: 1000000\n",
      "Querying 100000 records from offset 1000000 @ page 1\n",
      "Records returned thus far: 1006506\n",
      "Query took 0:03:39.484729 in total to run\n",
      "Total number of records returned: 1006506\n"
     ]
    }
   ],
   "source": [
    "all_records = []\n",
    "start_recorded_time = datetime.now()\n",
    "for query_run in range(query_runs):\n",
    "    offset = query_run * MAX_QUERY_LIMIT\n",
    "    query = f\"\"\"\n",
    "    SELECT\n",
    "      *\n",
    "    FROM\n",
    "      solana.fact_swaps\n",
    "    WHERE\n",
    "      succeeded = true\n",
    "      AND block_timestamp BETWEEN '{start_time}' AND '{end_time}'\n",
    "    ORDER BY\n",
    "      block_timestamp DESC\n",
    "    LIMIT\n",
    "      {MAX_QUERY_LIMIT}\n",
    "    OFFSET\n",
    "      {offset}\n",
    "    \"\"\"\n",
    "    for page_number in range(1, int(round(MAX_QUERY_LIMIT/PAGE_SIZE))+1):\n",
    "        print(f\"Querying {PAGE_SIZE} records from offset {offset} @ page {page_number}\")\n",
    "        qrs = sdk.query(query, page_number=page_number, page_size=PAGE_SIZE, ttl_minutes=1)\n",
    "        if qrs.records is None:\n",
    "            continue\n",
    "        all_records.extend(qrs.records)\n",
    "        print(f\"Records returned thus far: {len(all_records)}\")\n",
    "        if len(all_records) == count:\n",
    "            break\n",
    "    \n",
    "print(f\"Query took {datetime.now() - start_recorded_time} in total to run\")\n",
    "print(f\"Total number of records returned: {len(all_records)}\")"
   ]
  },
  {
   "cell_type": "code",
   "execution_count": 12,
   "id": "54e3bd33",
   "metadata": {},
   "outputs": [
    {
     "data": {
      "text/plain": [
       "{'swap_program': 'jupiter aggregator v2',\n",
       " 'block_timestamp': '2022-08-30 07:11:56.000',\n",
       " 'block_id': 148315779,\n",
       " 'tx_id': 'maXy87h2CBq78qxBTTnG8kPLN6pXi18BuWrDLuC6BtKn9FgjznTWXHhnF68mSv6Qu8qqDNdVs3c8JW1sXKrqK1p',\n",
       " 'succeeded': True,\n",
       " 'swapper': 'Dd1k91cWt84qJoQr3FT7EXQpSaMtZtwPwdho7RbMWtEV',\n",
       " 'swap_from_amount': 32.814999,\n",
       " 'swap_from_mint': 'Es9vMFrzaCERmJfrF4H2FYD4KCoNkY11McCe8BenwNYB',\n",
       " 'swap_to_amount': 32.814667,\n",
       " 'swap_to_mint': 'EPjFWdd5AufqSSqeM2qN1xzybapC8G4wEGGkZwyTDt1v'}"
      ]
     },
     "execution_count": 12,
     "metadata": {},
     "output_type": "execute_result"
    }
   ],
   "source": [
    "all_records[0]"
   ]
  },
  {
   "cell_type": "markdown",
   "id": "59976ef5",
   "metadata": {},
   "source": [
    "## Adapted example: get all UniswapV2 swaps in the last 15 days"
   ]
  },
  {
   "cell_type": "code",
   "execution_count": 13,
   "id": "70c3426b",
   "metadata": {},
   "outputs": [],
   "source": [
    "# First need to get the total number of swaps and start and end dates\n",
    "query_count = \"\"\"\n",
    "SELECT\n",
    "  COUNT(1) as swap_count,\n",
    "  GETDATE() as end_time,\n",
    "  GETDATE() - interval '15 days' as start_time\n",
    "FROM\n",
    "  ethereum.core.ez_dex_swaps\n",
    "WHERE\n",
    "  platform = 'uniswap-v2'\n",
    "  AND event_name = 'Swap'\n",
    "  AND block_timestamp BETWEEN GETDATE() - interval '15 days'\n",
    "  AND GETDATE()\n",
    "\"\"\""
   ]
  },
  {
   "cell_type": "code",
   "execution_count": 14,
   "id": "a46551f0",
   "metadata": {},
   "outputs": [
    {
     "data": {
      "text/plain": [
       "QueryResultSet(query_id=None, status='finished', columns=['SWAP_COUNT', 'END_TIME', 'START_TIME'], column_types=['number', 'timestamp', 'timestamp'], rows=[[1193027, '2022-08-30 10:05:42.148 +0000', '2022-08-15 10:05:42.148 +0000']], run_stats=QueryRunStats(started_at=datetime.datetime(2022, 8, 30, 10, 5, 42), ended_at=datetime.datetime(2022, 8, 30, 10, 5, 42), elapsed_seconds=0, record_count=1), records=[{'swap_count': 1193027, 'end_time': '2022-08-30 10:05:42.148 +0000', 'start_time': '2022-08-15 10:05:42.148 +0000'}], error=None)"
      ]
     },
     "execution_count": 14,
     "metadata": {},
     "output_type": "execute_result"
    }
   ],
   "source": [
    "qrs_count = sdk.query(query_count)\n",
    "qrs_count"
   ]
  },
  {
   "cell_type": "code",
   "execution_count": 15,
   "id": "0ae41f88",
   "metadata": {},
   "outputs": [
    {
     "data": {
      "text/plain": [
       "1193027"
      ]
     },
     "execution_count": 15,
     "metadata": {},
     "output_type": "execute_result"
    }
   ],
   "source": [
    "# Total number of UniswapV2 swaps over the last 15 days\n",
    "count = qrs_count.records[0][\"swap_count\"]\n",
    "count"
   ]
  },
  {
   "cell_type": "code",
   "execution_count": 16,
   "id": "25ba6e8c",
   "metadata": {},
   "outputs": [
    {
     "data": {
      "text/plain": [
       "'2022-08-15 10:05:42.148 +0000'"
      ]
     },
     "execution_count": 16,
     "metadata": {},
     "output_type": "execute_result"
    }
   ],
   "source": [
    "start_time = qrs_count.records[0][\"start_time\"]\n",
    "start_time"
   ]
  },
  {
   "cell_type": "code",
   "execution_count": 17,
   "id": "93361974",
   "metadata": {},
   "outputs": [
    {
     "data": {
      "text/plain": [
       "'2022-08-30 10:05:42.148 +0000'"
      ]
     },
     "execution_count": 17,
     "metadata": {},
     "output_type": "execute_result"
    }
   ],
   "source": [
    "end_time = qrs_count.records[0][\"end_time\"]\n",
    "end_time"
   ]
  },
  {
   "cell_type": "code",
   "execution_count": 18,
   "id": "0fb0b8ea",
   "metadata": {},
   "outputs": [
    {
     "data": {
      "text/plain": [
       "2"
      ]
     },
     "execution_count": 18,
     "metadata": {},
     "output_type": "execute_result"
    }
   ],
   "source": [
    "query_runs = math.ceil(count/MAX_QUERY_LIMIT)\n",
    "query_runs"
   ]
  },
  {
   "cell_type": "code",
   "execution_count": 19,
   "id": "5fd05acd",
   "metadata": {},
   "outputs": [
    {
     "name": "stdout",
     "output_type": "stream",
     "text": [
      "Querying 100000 records from offset 0 @ page 1\n",
      "Records returned thus far: 100000\n",
      "Querying 100000 records from offset 0 @ page 2\n",
      "Records returned thus far: 200000\n",
      "Querying 100000 records from offset 0 @ page 3\n",
      "Records returned thus far: 300000\n",
      "Querying 100000 records from offset 0 @ page 4\n",
      "Records returned thus far: 400000\n",
      "Querying 100000 records from offset 0 @ page 5\n",
      "Records returned thus far: 500000\n",
      "Querying 100000 records from offset 0 @ page 6\n",
      "Records returned thus far: 600000\n",
      "Querying 100000 records from offset 0 @ page 7\n",
      "Records returned thus far: 700000\n",
      "Querying 100000 records from offset 0 @ page 8\n",
      "Records returned thus far: 800000\n",
      "Querying 100000 records from offset 0 @ page 9\n",
      "Records returned thus far: 900000\n",
      "Querying 100000 records from offset 0 @ page 10\n",
      "Records returned thus far: 1000000\n",
      "Querying 100000 records from offset 1000000 @ page 1\n",
      "Records returned thus far: 1100000\n",
      "Querying 100000 records from offset 1000000 @ page 2\n",
      "Records returned thus far: 1193027\n",
      "Query took 0:12:46.999506 in total to run\n",
      "Total number of records returned: 1193027\n"
     ]
    }
   ],
   "source": [
    "all_records = []\n",
    "start_recorded_time = datetime.now()\n",
    "for query_run in range(query_runs):\n",
    "    offset = query_run * MAX_QUERY_LIMIT\n",
    "    query = f\"\"\"\n",
    "    SELECT\n",
    "      *\n",
    "    FROM\n",
    "      ethereum.core.ez_dex_swaps\n",
    "    WHERE\n",
    "      platform = 'uniswap-v2'\n",
    "      AND event_name = 'Swap'\n",
    "      AND block_timestamp BETWEEN '{start_time}' AND '{end_time}'\n",
    "    ORDER BY\n",
    "      block_timestamp DESC\n",
    "    LIMIT\n",
    "      {MAX_QUERY_LIMIT}\n",
    "    OFFSET\n",
    "      {offset}\n",
    "    \"\"\"\n",
    "    for page_number in range(1, int(round(MAX_QUERY_LIMIT/PAGE_SIZE))+1):\n",
    "        print(f\"Querying {PAGE_SIZE} records from offset {offset} @ page {page_number}\")\n",
    "        qrs = sdk.query(query, page_number=page_number, page_size=PAGE_SIZE, ttl_minutes=1)\n",
    "        if qrs.records is None:\n",
    "            continue\n",
    "        all_records.extend(qrs.records)\n",
    "        print(f\"Records returned thus far: {len(all_records)}\")\n",
    "        if len(all_records) == count:\n",
    "            break\n",
    "    \n",
    "print(f\"Query took {datetime.now() - start_recorded_time} in total to run\")\n",
    "print(f\"Total number of records returned: {len(all_records)}\")"
   ]
  },
  {
   "cell_type": "code",
   "execution_count": 20,
   "id": "8def83a8",
   "metadata": {},
   "outputs": [
    {
     "data": {
      "text/plain": [
       "{'block_number': 15439582,\n",
       " 'block_timestamp': '2022-08-30 09:23:02.000',\n",
       " 'tx_hash': '0xc0d4536f2ca9a049280086f960f89a43dd42abfda175367756c25e4298de47fc',\n",
       " 'origin_function_signature': '0x2e95b6c8',\n",
       " 'origin_from_address': '0x30cb2c51fc4f031fa5f326d334e1f5da00e19ab5',\n",
       " 'origin_to_address': '0x1111111254fb6c44bac0bed2854e76f90643097d',\n",
       " 'contract_address': '0x367e2d443988e4b222fbfdafdb35eeb7dda9fbb7',\n",
       " 'pool_name': 'WETH-DEUS LP',\n",
       " 'event_name': 'Swap',\n",
       " 'amount_in': 22.638031861,\n",
       " 'amount_in_usd': None,\n",
       " 'amount_out': 0.6135481076,\n",
       " 'amount_out_usd': None,\n",
       " 'sender': '0x1111111254fb6c44bac0bed2854e76f90643097d',\n",
       " 'tx_to': '0x397ff1542f962076d0bfe58ea045ffa2d347aca0',\n",
       " 'event_index': 71,\n",
       " 'platform': 'uniswap-v2',\n",
       " 'token_in': '0xde5ed76e7c05ec5e4572cfc88d1acea165109e44',\n",
       " 'token_out': '0xc02aaa39b223fe8d0a0e5c4f27ead9083c756cc2',\n",
       " 'symbol_in': 'DEUS',\n",
       " 'symbol_out': 'WETH',\n",
       " '_log_id': '0xc0d4536f2ca9a049280086f960f89a43dd42abfda175367756c25e4298de47fc-71',\n",
       " '_inserted_timestamp': '2022-08-30 09:26:19.114'}"
      ]
     },
     "execution_count": 20,
     "metadata": {},
     "output_type": "execute_result"
    }
   ],
   "source": [
    "all_records[0]"
   ]
  }
 ],
 "metadata": {
  "kernelspec": {
   "display_name": "Python 3 (ipykernel)",
   "language": "python",
   "name": "python3"
  },
  "language_info": {
   "codemirror_mode": {
    "name": "ipython",
    "version": 3
   },
   "file_extension": ".py",
   "mimetype": "text/x-python",
   "name": "python",
   "nbconvert_exporter": "python",
   "pygments_lexer": "ipython3",
   "version": "3.7.11"
  }
 },
 "nbformat": 4,
 "nbformat_minor": 5
}
